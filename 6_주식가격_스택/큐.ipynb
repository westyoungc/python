{
  "nbformat": 4,
  "nbformat_minor": 0,
  "metadata": {
    "colab": {
      "name": "Untitled0.ipynb",
      "provenance": [],
      "authorship_tag": "ABX9TyMhTnKIu42lrVaFulzU57G4",
      "include_colab_link": true
    },
    "kernelspec": {
      "name": "python3",
      "display_name": "Python 3"
    }
  },
  "cells": [
    {
      "cell_type": "markdown",
      "metadata": {
        "id": "view-in-github",
        "colab_type": "text"
      },
      "source": [
        "<a href=\"https://colab.research.google.com/github/westyoungc/python/blob/master/6_%EC%A3%BC%EC%8B%9D%EA%B0%80%EA%B2%A9_%EC%8A%A4%ED%83%9D/%ED%81%90.ipynb\" target=\"_parent\"><img src=\"https://colab.research.google.com/assets/colab-badge.svg\" alt=\"Open In Colab\"/></a>"
      ]
    },
    {
      "cell_type": "code",
      "metadata": {
        "id": "KTi2G3V-zuX_",
        "colab_type": "code",
        "colab": {}
      },
      "source": [
        ""
      ],
      "execution_count": 0,
      "outputs": []
    },
    {
      "cell_type": "markdown",
      "metadata": {
        "id": "6DgIbm4czvG7",
        "colab_type": "text"
      },
      "source": [
        "초 단위로 기록된 주식가격이 담긴 배열 prices가 매개변수로 주어질 때, 가격이 떨어지지 않은 기간은 몇 초인지를 return 하도록 solution 함수를 완성하세요.\n",
        "\n",
        "제한사항\n",
        "prices의 각 가격은 1 이상 10,000 이하인 자연수입니다.\n",
        "prices의 길이는 2 이상 100,000 이하입니다.\n",
        "입출력 예\n",
        "prices\treturn\n",
        "[1, 2, 3, 2, 3]\t[4, 3, 1, 1, 0]\n",
        "입출력 예 설명\n",
        "1초 시점의 ₩1은 끝까지 가격이 떨어지지 않았습니다.\n",
        "2초 시점의 ₩2은 끝까지 가격이 떨어지지 않았습니다.\n",
        "3초 시점의 ₩3은 1초뒤에 가격이 떨어집니다. 따라서 1초간 가격이 떨어지지 않은 것으로 봅니다.\n",
        "4초 시점의 ₩2은 1초간 가격이 떨어지지 않았습니다.\n",
        "5초 시점의 ₩3은 0초간 가격이 떨어지지 않았습니다.\n",
        "※ 공지 - 2019년 2월 28일 지문이 리뉴얼되었습니다."
      ]
    },
    {
      "cell_type": "markdown",
      "metadata": {
        "id": "crnjDWZNzwJM",
        "colab_type": "text"
      },
      "source": [
        "문제가 명확하지 않다. 왜 3에서 2로 가격이 허락했을때 가격이 하락했음에도 불구하고 1초간 가격이 떨어지지 않는 걸로 보는가?\n",
        "\n",
        "이 문제는 가격이 떨어지는 시점까지 걸리는 시간을 구하는 것이라고 이해해야 한다. \n",
        "\n"
      ]
    },
    {
      "cell_type": "code",
      "metadata": {
        "id": "tWU7yWGY0EFS",
        "colab_type": "code",
        "colab": {}
      },
      "source": [
        "# 내 코드\n",
        "def solution(prices):\n",
        "    answer = []\n",
        "    i = 1\n",
        "    while len(prices) != 1:\n",
        "            if prices[0] > prices[i] or i == len(prices)-1:\n",
        "                answer.append(i)\n",
        "                prices.pop(0)\n",
        "                i = 1\n",
        "            else:   i += 1\n",
        "    answer.append(0)\n",
        "    return answer"
      ],
      "execution_count": 0,
      "outputs": []
    },
    {
      "cell_type": "markdown",
      "metadata": {
        "id": "kWFM-Cl-0H61",
        "colab_type": "text"
      },
      "source": [
        "효율성 테스트를 통과하기 위해서 이중 for문을 일부러 피해서 썼지만 pop(0)을 쓰면서 list의 순서를 재배치하게 되어 효율성 테스트를 통과하지 못했다. "
      ]
    },
    {
      "cell_type": "code",
      "metadata": {
        "id": "8so5XeAW4zog",
        "colab_type": "code",
        "colab": {}
      },
      "source": [
        "#내 코드\n",
        "def solution(prices):\n",
        "    #다시 이중 포문으로 가보쟈..\n",
        "    answer = []\n",
        "    for i in range(len(prices)):\n",
        "        for j in range(i+1, len(prices)):\n",
        "            if prices[i] > prices[j] or j == len(prices) - 1:\n",
        "                answer.append(j - i)\n",
        "                break\n",
        "    answer.append(0)\n",
        "    return answer"
      ],
      "execution_count": 0,
      "outputs": []
    },
    {
      "cell_type": "markdown",
      "metadata": {
        "id": "3K1XIsyd41eT",
        "colab_type": "text"
      },
      "source": [
        "이중 포문으로 다시 짜보니까 효율성 테스트도 통과함... 그렇담 스택/큐를 사용해서 문제를 풀려면 어떻게 해야 하는가?\n"
      ]
    },
    {
      "cell_type": "code",
      "metadata": {
        "id": "QqpeZOp-49fk",
        "colab_type": "code",
        "colab": {}
      },
      "source": [
        "# 최적 코드가 없다. 대부분 스택/큐 안 쓰고 위처럼 이중 포문 씀.. .미스테리한 문제네여\n",
        "# 민에가 최적 코드. 내 코드랑 비슷한데 좀 더 간결하다.. 난 내꺼 쓸래.. 이제 머리아파 ㅠㅠ\n",
        "def solution(prices):\n",
        "    answer = [0] * len(prices)\n",
        "    for i in range(len(prices)):\n",
        "        for j in range(i+1, len(prices)):\n",
        "            if prices[i] <= prices[j]:\n",
        "                answer[i] += 1\n",
        "            else:\n",
        "                answer[i] += 1\n",
        "                break\n",
        "    return answer\n"
      ],
      "execution_count": 0,
      "outputs": []
    }
  ]
}