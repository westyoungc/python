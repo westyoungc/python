{
  "nbformat": 4,
  "nbformat_minor": 0,
  "metadata": {
    "colab": {
      "name": "5_기능개선.ipynb",
      "provenance": [],
      "authorship_tag": "ABX9TyOJqMZnxwhkjKSvM4PzW0nB",
      "include_colab_link": true
    },
    "kernelspec": {
      "name": "python3",
      "display_name": "Python 3"
    }
  },
  "cells": [
    {
      "cell_type": "markdown",
      "metadata": {
        "id": "view-in-github",
        "colab_type": "text"
      },
      "source": [
        "<a href=\"https://colab.research.google.com/github/westyoungc/python/blob/master/5_%EA%B8%B0%EB%8A%A5%EA%B0%9C%EC%84%A0.ipynb\" target=\"_parent\"><img src=\"https://colab.research.google.com/assets/colab-badge.svg\" alt=\"Open In Colab\"/></a>"
      ]
    },
    {
      "cell_type": "markdown",
      "metadata": {
        "id": "JKqMywSkm02o",
        "colab_type": "text"
      },
      "source": [
        "프로그래머스 팀에서는 기능 개선 작업을 수행 중입니다. 각 기능은 진도가 100%일 때 서비스에 반영할 수 있습니다.\n",
        "\n",
        "또, 각 기능의 개발속도는 모두 다르기 때문에 뒤에 있는 기능이 앞에 있는 기능보다 먼저 개발될 수 있고, 이때 뒤에 있는 기능은 앞에 있는 기능이 배포될 때 함께 배포됩니다.\n",
        "\n",
        "먼저 배포되어야 하는 순서대로 작업의 진도가 적힌 정수 배열 progresses와 각 작업의 개발 속도가 적힌 정수 배열 speeds가 주어질 때 각 배포마다 몇 개의 기능이 배포되는지를 return 하도록 solution 함수를 완성하세요.\n",
        "\n",
        "제한 사항\n",
        "작업의 개수(progresses, speeds배열의 길이)는 100개 이하입니다.\n",
        "작업 진도는 100 미만의 자연수입니다.\n",
        "작업 속도는 100 이하의 자연수입니다.\n",
        "배포는 하루에 한 번만 할 수 있으며, 하루의 끝에 이루어진다고 가정합니다. 예를 들어 진도율이 95%인 작업의 개발 속도가 하루에 4%라면 배포는 2일 뒤에 이루어집니다.\n",
        "입출력 예\n",
        "progresses\tspeeds\treturn\n",
        "[93,30,55]\t[1,30,5]\t[2,1]\n",
        "입출력 예 설명\n",
        "첫 번째 기능은 93% 완료되어 있고 하루에 1%씩 작업이 가능하므로 7일간 작업 후 배포가 가능합니다.\n",
        "두 번째 기능은 30%가 완료되어 있고 하루에 30%씩 작업이 가능하므로 3일간 작업 후 배포가 가능합니다. 하지만 이전 첫 번째 기능이 아직 완성된 상태가 아니기 때문에 첫 번째 기능이 배포되는 7일째 배포됩니다.\n",
        "세 번째 기능은 55%가 완료되어 있고 하루에 5%씩 작업이 가능하므로 9일간 작업 후 배포가 가능합니다.\n",
        "\n",
        "따라서 7일째에 2개의 기능, 9일째에 1개의 기능이 배포됩니다."
      ]
    },
    {
      "cell_type": "markdown",
      "metadata": {
        "id": "kdQaU_5Xm2Vi",
        "colab_type": "text"
      },
      "source": [
        "문제 이해를 한참 잘못했다. 그러니까 못 풀지...\n",
        "\n",
        "문제에서 중요한 부분은 \"뒤에 있는 기능은 앞에 있는 기능이 배포될 때 함께 배포됩니다.\" 였다.\n",
        "\n",
        "나는 1번째 기능이 배포될 때 3번째 기능이 완료 되지 않았지만 4번째 기능이 완료된 상태라면 1번째 기능과 4번째 기능이 같이 배포될 수 있다고 이해했는데, \n",
        "사실은 3번째 기능이 배포되지 않아서 4번째 기능은 배포될 수 없는 상태였다.\n",
        "멍총이..."
      ]
    },
    {
      "cell_type": "markdown",
      "metadata": {
        "id": "acxwT4H2n0J9",
        "colab_type": "text"
      },
      "source": [
        ""
      ]
    },
    {
      "cell_type": "code",
      "metadata": {
        "id": "viz0KhtQn0WP",
        "colab_type": "code",
        "colab": {}
      },
      "source": [
        "# 인터넷에서 찾은 코드지만, 내가 좀 더 직관적으로 이해할 수 있는 코드\n",
        "def solution(progresses, speeds):\n",
        "    answer = []\n",
        "    while progresses:\n",
        "        for i in range(len(progresses)):\n",
        "            progresses[i] += speeds[i]\n",
        "        cnt = 0\n",
        "        while progresses and progresses[0] >= 100:\n",
        "            progresses.pop(0)\n",
        "            speeds.pop(0)\n",
        "            cnt += 1\n",
        "        if cnt>0:\n",
        "            answer.append(cnt)\n",
        "    return answer"
      ],
      "execution_count": 0,
      "outputs": []
    },
    {
      "cell_type": "code",
      "metadata": {
        "id": "X8IXEUdEn2ph",
        "colab_type": "code",
        "colab": {}
      },
      "source": [
        "# 최적 코드\n",
        "def solution(progresses, speeds):\n",
        "    Q=[]\n",
        "    for p, s in zip(progresses, speeds):\n",
        "        if len(Q)==0 or Q[-1][0]<-((p-100)//s):\n",
        "            Q.append([-((p-100)//s),1])\n",
        "        else:\n",
        "            Q[-1][1]+=1\n",
        "    return [q[1] for q in Q]"
      ],
      "execution_count": 0,
      "outputs": []
    },
    {
      "cell_type": "markdown",
      "metadata": {
        "id": "e3V0mc0OoBnj",
        "colab_type": "text"
      },
      "source": [
        "zip을 활용할 줄 알아야지...\n",
        "\n",
        "Q가 왜 2차원 배열로 사용됐는지는 모르겠당\n",
        "\n",
        "-((p-100)//s 로 쓴 이유는 양수화해서 math.ceil을 import하지 않기 위함이다.. 오 마이너스 붙여서 하면 그러케 되나보네 첨 알았.\n",
        " \n",
        "            : 배포되는 데까지 걸리는 시간을 계산한 것이다."
      ]
    }
  ]
}