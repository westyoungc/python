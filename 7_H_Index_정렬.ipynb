{
  "nbformat": 4,
  "nbformat_minor": 0,
  "metadata": {
    "colab": {
      "name": "7_H-Index/정렬.ipynb",
      "provenance": [],
      "authorship_tag": "ABX9TyNfwp76xj1+9MGfLI+NpTOw",
      "include_colab_link": true
    },
    "kernelspec": {
      "name": "python3",
      "display_name": "Python 3"
    }
  },
  "cells": [
    {
      "cell_type": "markdown",
      "metadata": {
        "id": "view-in-github",
        "colab_type": "text"
      },
      "source": [
        "<a href=\"https://colab.research.google.com/github/westyoungc/python/blob/master/7_H_Index_%EC%A0%95%EB%A0%AC.ipynb\" target=\"_parent\"><img src=\"https://colab.research.google.com/assets/colab-badge.svg\" alt=\"Open In Colab\"/></a>"
      ]
    },
    {
      "cell_type": "markdown",
      "metadata": {
        "id": "h2-jMHxgePWv",
        "colab_type": "text"
      },
      "source": [
        "H-Index는 과학자의 생산성과 영향력을 나타내는 지표입니다. 어느 과학자의 H-Index를 나타내는 값인 h를 구하려고 합니다. 위키백과1에 따르면, H-Index는 다음과 같이 구합니다.\n",
        "\n",
        "어떤 과학자가 발표한 논문 n편 중, h번 이상 인용된 논문이 h편 이상이고 나머지 논문이 h번 이하 인용되었다면 h가 이 과학자의 H-Index입니다.\n",
        "\n",
        "어떤 과학자가 발표한 논문의 인용 횟수를 담은 배열 citations가 매개변수로 주어질 때, 이 과학자의 H-Index를 return 하도록 solution 함수를 작성해주세요.\n",
        "\n",
        "제한사항\n",
        "과학자가 발표한 논문의 수는 1편 이상 1,000편 이하입니다.\n",
        "논문별 인용 횟수는 0회 이상 10,000회 이하입니다.\n",
        "입출력 예\n",
        "citations\treturn\n",
        "[3, 0, 6, 1, 5]\t3\n",
        "입출력 예 설명\n",
        "이 과학자가 발표한 논문의 수는 5편이고, 그중 3편의 논문은 3회 이상 인용되었습니다. 그리고 나머지 2편의 논문은 3회 이하 인용되었기 때문에 이 과학자의 H-Index는 3입니다."
      ]
    },
    {
      "cell_type": "markdown",
      "metadata": {
        "id": "KjMRRKO4ecxd",
        "colab_type": "text"
      },
      "source": [
        "내 코드는 없다.. 뭐 성공을 해야 말이지"
      ]
    },
    {
      "cell_type": "code",
      "metadata": {
        "id": "at6giE7Cef8O",
        "colab_type": "code",
        "colab": {}
      },
      "source": [
        "# 최적 코드\n",
        "def solution(citations):\n",
        "    citations = sorted(citations)\n",
        "    l = len(citations)\n",
        "    for i in range(l):\n",
        "        if citations[i] >= l-i:\n",
        "            return l-i\n",
        "    return 0"
      ],
      "execution_count": 0,
      "outputs": []
    },
    {
      "cell_type": "code",
      "metadata": {
        "id": "_Y8BzWdTejE_",
        "colab_type": "code",
        "colab": {}
      },
      "source": [
        "#마찬가지로 최적 코드.. 이해가 잘 안 간다\n",
        "def solution(citations):\n",
        "    for i in range(max(citations),-1,-1) :\n",
        "        if sum(1 for j in citations if j >= i) >= i : break\n",
        "    return i"
      ],
      "execution_count": 0,
      "outputs": []
    }
  ]
}