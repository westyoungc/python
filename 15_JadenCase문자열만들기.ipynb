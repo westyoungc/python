{
  "nbformat": 4,
  "nbformat_minor": 0,
  "metadata": {
    "colab": {
      "name": "15_JadenCase문자열만들기.ipynb",
      "provenance": [],
      "authorship_tag": "ABX9TyNQrtsnVZdlT31fJvML+9sY",
      "include_colab_link": true
    },
    "kernelspec": {
      "name": "python3",
      "display_name": "Python 3"
    }
  },
  "cells": [
    {
      "cell_type": "markdown",
      "metadata": {
        "id": "view-in-github",
        "colab_type": "text"
      },
      "source": [
        "<a href=\"https://colab.research.google.com/github/westyoungc/python/blob/master/15_JadenCase%EB%AC%B8%EC%9E%90%EC%97%B4%EB%A7%8C%EB%93%A4%EA%B8%B0.ipynb\" target=\"_parent\"><img src=\"https://colab.research.google.com/assets/colab-badge.svg\" alt=\"Open In Colab\"/></a>"
      ]
    },
    {
      "cell_type": "markdown",
      "metadata": {
        "id": "LMcT7zYQLmIe",
        "colab_type": "text"
      },
      "source": [
        "JadenCase란 모든 단어의 첫 문자가 대문자이고, 그 외의 알파벳은 소문자인 문자열입니다. 문자열 s가 주어졌을 때, s를 JadenCase로 바꾼 문자열을 리턴하는 함수, solution을 완성해주세요.\n",
        "\n",
        "제한 조건\n",
        "s는 길이 1 이상인 문자열입니다.\n",
        "s는 알파벳과 공백문자(\" \")로 이루어져 있습니다.\n",
        "첫 문자가 영문이 아닐때에는 이어지는 영문은 소문자로 씁니다. ( 첫번째 입출력 예 참고 )\n",
        "입출력 예\n",
        "s\treturn\n",
        "3people unFollowed me\t3people Unfollowed Me\n",
        "for the last week\tFor The Last Week"
      ]
    },
    {
      "cell_type": "code",
      "metadata": {
        "id": "gdnObnv7LwBd",
        "colab_type": "code",
        "colab": {}
      },
      "source": [
        "#내코드\n",
        "def solution(s):\n",
        "    b = []\n",
        "    a = s.lower().title().split(' ')\n",
        "    for i in a:\n",
        "        if i[0].isdigit() == True:\n",
        "            i = i.lower()\n",
        "        b.append(i)\n",
        "    return ' '.join(b)\n",
        "  \n",
        "\n",
        "def solution(s):\n",
        "    b=[]\n",
        "    a = s.lower().split(' ')\n",
        "    for i in a:\n",
        "        b.append(i[0].upper()+i[1:])\n",
        "    return ' '.join(b)\n",
        "\n",
        "\n",
        "def solution(s):\n",
        "    answer = ''\n",
        "    a = s.lower().split(' ')\n",
        "    for i in a:\n",
        "        answer += i[0].upper()+i[1:]+' '\n",
        "    return answer[:-1]\n",
        "\n",
        "\n",
        "def solution(s):\n",
        "    answer = ''\n",
        "    a = s.lower().split(' ')\n",
        "    for i in a:\n",
        "        answer += i.capitalize()+' '      #여기서 title하면 3People인데 capitalize하면 3people임.\n",
        "    return answer[:-1]\n",
        "\n",
        "\n",
        "\n",
        "#내 기준 최적풀이(통과한 답임)\n",
        "def solution(s):\n",
        "    s = s.lower().split(' ')\n",
        "    a = []\n",
        "    for i in s:\n",
        "        i = i.capitalize()\n",
        "        a.append(i)\n",
        "    return ' '.join(a)"
      ],
      "execution_count": 0,
      "outputs": []
    },
    {
      "cell_type": "markdown",
      "metadata": {
        "id": "3Qh2cKOWLzvX",
        "colab_type": "text"
      },
      "source": [
        "원래는 남들이 하는 것처럼 lower해놓고 for문 돌려서 첫문자만 upper/title/capitalize 했는데 전나 런타임 에러뜸... 아니면 for문 안에서 일어나는 걸 인식을 못했다 그래서 굳이 b만들어서 append했는데 걍걍 런타임에러\n",
        "\n",
        "\n",
        "아직 왜 저렇게 차이가 나는지는 모르겠는데.. \n",
        "인덱싱이 러닝타임이 오래걸려서 런타임에러가 난건가\n",
        "\n",
        "질문하기 보면은 split이 공백 두 개 일수도 있어서 런타임에러가 난다는데 공백을 어떻게 해야지.. 근데 남의 풀이 보면 걍 나랑 똑같이 split(' ')했는디?\n",
        "\n",
        "split()이거로 하면 split(' ')이랑 똑같이 나오는데 돌리면 전자는 런타임 오버다. 이거는 공백이 한 두개가 아닐수도 있어서 그런듯\n",
        "\n",
        "split(' ')으로하면 그냥 빈 값?이나 공백으로 나눠질 수도 있는데..그거에도 걍 capitalize하고 공백 더하고 해야하나보넹."
      ]
    },
    {
      "cell_type": "code",
      "metadata": {
        "id": "bkHTGe4rOpBV",
        "colab_type": "code",
        "colab": {}
      },
      "source": [
        "#남의 풀이 출처 https://velog.io/@terry960302/%EC%95%8C%EA%B3%A0%EB%A6%AC%EC%A6%98-%ED%92%80%EC%9D%B4-%ED%94%84%EB%A1%9C%EA%B7%B8%EB%9E%98%EB%A8%B8%EC%8A%A4-LV2-JadenCase-%EB%AC%B8%EC%9E%90%EC%97%B4-%EB%A7%8C%EB%93%A4%EA%B8%B0-e8jwm1dqw0\n",
        "def solution(s):\n",
        "    s = s.lower()\n",
        "    L=s.split(\" \")\n",
        "    answer = \"\"\n",
        "    for i in L:\n",
        "        i= i.capitalize()\n",
        "        answer+= i+\" \"\n",
        "    return answer[:-1]"
      ],
      "execution_count": 0,
      "outputs": []
    },
    {
      "cell_type": "markdown",
      "metadata": {
        "id": "bbcwBOrRQqPu",
        "colab_type": "text"
      },
      "source": [
        "정리\n",
        "\n",
        "indexing하면 런타임오버인듯.\n",
        "\n",
        "나는 title써서 3People됐는데 capitalize는 3people이었다. title이 단어 기준임을 기억할 것!\n",
        "\n"
      ]
    },
    {
      "cell_type": "markdown",
      "metadata": {
        "id": "9utCjThQRKtw",
        "colab_type": "text"
      },
      "source": [
        "배운점\n",
        "str에는 s.title()도 있고 s.capitalize()도 있다. 둘의 차이점 기억할 것."
      ]
    },
    {
      "cell_type": "markdown",
      "metadata": {
        "id": "ibj32k6sRfvg",
        "colab_type": "text"
      },
      "source": [
        "+ 프로그래머스 문제는 업데이트된 경우가 많아서\n",
        "이전의 최적의 코드가 작동하지 않을수도 있다..."
      ]
    }
  ]
}
