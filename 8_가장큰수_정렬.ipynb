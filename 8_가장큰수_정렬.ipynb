{
  "nbformat": 4,
  "nbformat_minor": 0,
  "metadata": {
    "colab": {
      "name": "8_가장큰수/정렬.ipynb",
      "provenance": [],
      "authorship_tag": "ABX9TyNIbqE5YmHxVkGB+VkcSxN6",
      "include_colab_link": true
    },
    "kernelspec": {
      "name": "python3",
      "display_name": "Python 3"
    }
  },
  "cells": [
    {
      "cell_type": "markdown",
      "metadata": {
        "id": "view-in-github",
        "colab_type": "text"
      },
      "source": [
        "<a href=\"https://colab.research.google.com/github/westyoungc/python/blob/master/8_%EA%B0%80%EC%9E%A5%ED%81%B0%EC%88%98_%EC%A0%95%EB%A0%AC.ipynb\" target=\"_parent\"><img src=\"https://colab.research.google.com/assets/colab-badge.svg\" alt=\"Open In Colab\"/></a>"
      ]
    },
    {
      "cell_type": "markdown",
      "metadata": {
        "id": "msC4fl6H7i9e",
        "colab_type": "text"
      },
      "source": [
        "0 또는 양의 정수가 주어졌을 때, 정수를 이어 붙여 만들 수 있는 가장 큰 수를 알아내 주세요.\n",
        "\n",
        "예를 들어, 주어진 정수가 [6, 10, 2]라면 [6102, 6210, 1062, 1026, 2610, 2106]를 만들 수 있고, 이중 가장 큰 수는 6210입니다.\n",
        "\n",
        "0 또는 양의 정수가 담긴 배열 numbers가 매개변수로 주어질 때, 순서를 재배치하여 만들 수 있는 가장 큰 수를 문자열로 바꾸어 return 하도록 solution 함수를 작성해주세요.\n",
        "\n",
        "제한 사항\n",
        "numbers의 길이는 1 이상 100,000 이하입니다.\n",
        "numbers의 원소는 0 이상 1,000 이하입니다.\n",
        "정답이 너무 클 수 있으니 문자열로 바꾸어 return 합니다.\n",
        "입출력 예\n",
        "numbers\treturn\n",
        "[6, 10, 2]\t6210\n",
        "[3, 30, 34, 5, 9]\t9534330"
      ]
    },
    {
      "cell_type": "code",
      "metadata": {
        "id": "4EgPMdUQ7q6K",
        "colab_type": "code",
        "colab": {}
      },
      "source": [
        "#내 코드... 시간 초과\n",
        "from itertools import permutations \n",
        "def solution(numbers):\n",
        "    numbers = list(map(str, numbers))\n",
        "    arr = list(map(''.join, permutations(numbers)))\n",
        "    return str(max(arr))"
      ],
      "execution_count": 0,
      "outputs": []
    },
    {
      "cell_type": "code",
      "metadata": {
        "id": "KEWchgCuA8Zp",
        "colab_type": "code",
        "colab": {}
      },
      "source": [
        "#최적 코드\n",
        "def solution(numbers):\n",
        "    numbers = list(map(str, numbers))\n",
        "    numbers.sort(key=lambda x: x*3, reverse=True)\n",
        "    return str(int(''.join(numbers)))"
      ],
      "execution_count": 0,
      "outputs": []
    },
    {
      "cell_type": "markdown",
      "metadata": {
        "id": "xfMMZoBKBAGY",
        "colab_type": "text"
      },
      "source": [
        "배운점\n",
        "1. sort에도 lambda가 가능하구나.. 는 사실 알고 있었다\n",
        "2. 이 문제의 요점은 각 요소들을 같은 길이로 만들어서 수를 비교하는 거였다.\n",
        "예를들어, 3은 333, 30은 303..? 요소는 1000이하라고 했으니까 *3 까지만 한다.\n",
        "3. 그냥 *3을 하면 자리수가 달라지겠지만, int 가 아니라 문자열 비교이기 때문에 달라쥔댜..\n",
        "****참조: 문자열 비교연산의 경우엔 첫번째 인덱스인 666[0]인 6과 101010[0]인 1과 222[0]인 2를 ascii숫자로 바꿔서 비교합니다. 물론 같으면, 다음 인덱스도 비교합니다. 비교한 결과 [6, 2, 10]의 순으로 정렬됩니다. // 풀이에 달린 답글.\n",
        "4. 마지막에 str int를 안 붙이니까 마지막 테스트케이스에서 실패가 떴다. 왜 붙여야 하냐? '0000'같은 걸 '0'으로 바꾸기 위해서..? 라고.. 한다. 근데 잘 이해 안 가... 나중에 알 수 있겠지@\n",
        "\n",
        "테스트 케이스 뭔지 다 알려줘서 어디가 틀렸는지 알려줬으면 좋게따 ㅠ\n",
        "\n",
        "힘든.. 문제여따!"
      ]
    }
  ]
}