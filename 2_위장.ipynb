{
  "nbformat": 4,
  "nbformat_minor": 0,
  "metadata": {
    "colab": {
      "name": "2. 위장",
      "provenance": [],
      "authorship_tag": "ABX9TyOLohkUjXHFyJIcf8+TiMy/",
      "include_colab_link": true
    },
    "kernelspec": {
      "name": "python3",
      "display_name": "Python 3"
    }
  },
  "cells": [
    {
      "cell_type": "markdown",
      "metadata": {
        "id": "view-in-github",
        "colab_type": "text"
      },
      "source": [
        "<a href=\"https://colab.research.google.com/github/westyoungc/python/blob/master/2_%EC%9C%84%EC%9E%A5.ipynb\" target=\"_parent\"><img src=\"https://colab.research.google.com/assets/colab-badge.svg\" alt=\"Open In Colab\"/></a>"
      ]
    },
    {
      "cell_type": "markdown",
      "metadata": {
        "id": "iR72IYNkIELv",
        "colab_type": "text"
      },
      "source": [
        "스파이들은 매일 다른 옷을 조합하여 입어 자신을 위장합니다.\n",
        "\n",
        "예를 들어 스파이가 가진 옷이 아래와 같고 오늘 스파이가 동그란 안경, 긴 코트, 파란색 티셔츠를 입었다면 다음날은 청바지를 추가로 입거나 동그란 안경 대신 검정 선글라스를 착용하거나 해야 합니다.\n",
        "\n",
        "종류\t이름\n",
        "얼굴\t동그란 안경, 검정 선글라스\n",
        "상의\t파란색 티셔츠\n",
        "하의\t청바지\n",
        "겉옷\t긴 코트\n",
        "스파이가 가진 의상들이 담긴 2차원 배열 clothes가 주어질 때 서로 다른 옷의 조합의 수를 return 하도록 solution 함수를 작성해주세요."
      ]
    },
    {
      "cell_type": "markdown",
      "metadata": {
        "id": "PkDVz4uPKVUd",
        "colab_type": "text"
      },
      "source": [
        "**배운 것\n",
        "from itertools import combinations/permutations\n",
        "  :list(combinations(list, 개수)) 형태.\n",
        "\n",
        "from functools import reduce\n",
        "  :list의 두 elements를 함수의 왼쪽에서 오른쪽으로 누적적으로 적용해서 하나의 단일 값으로 줄인다.\n",
        "  : (lambda x, y: x * y, arr,1,initial#선택적)\n",
        "\n",
        "from collections import Count\n",
        "  :collections.Counter({dict}or [for _,name in list])\n",
        "  :요소의 갯수를 구할 수 있다. 많은 것부터 반환한다.\n",
        "\n",
        "+ dict.values() 까먹었다.."
      ]
    },
    {
      "cell_type": "code",
      "metadata": {
        "id": "FIC41ZZXIH-1",
        "colab_type": "code",
        "colab": {}
      },
      "source": [
        "#1번 런타임 에러\n",
        "from itertools import combinations\n",
        "from functools import reduce\n",
        "def solution(clothes):\n",
        "    answer = 0\n",
        "    dict = {}\n",
        "    for i in range(len(clothes)):\n",
        "        if clothes[i][1] in dict:\n",
        "            dict[clothes[i][1]] += 1\n",
        "        else:\n",
        "            dict[clothes[i][1]] = 1\n",
        "    for j in range(1,len(clothes)+1):\n",
        "        com = list(combinations(dict.values(),j))\n",
        "        for k in com:\n",
        "            answer += reduce(lambda x, y: x * y, k)\n",
        "    return answer"
      ],
      "execution_count": 0,
      "outputs": []
    },
    {
      "cell_type": "code",
      "metadata": {
        "id": "sOj3f5ZSILWw",
        "colab_type": "code",
        "colab": {}
      },
      "source": [
        "#다른 사람 풀이\n",
        "from collections import Counter\n",
        "def solution(clothes):\n",
        "    answer = 1\n",
        "    closet = Counter([ty for name,ty in clothes])\n",
        "    for value in closet.values() :\n",
        "        answer *= (value+1)\n",
        "    return answer - 1"
      ],
      "execution_count": 0,
      "outputs": []
    },
    {
      "cell_type": "code",
      "metadata": {
        "id": "fXD1F_uNKMtc",
        "colab_type": "code",
        "colab": {}
      },
      "source": [
        "#다른 사람 풀이\n",
        "def solution(clothes):\n",
        "    from collections import Counter\n",
        "    from functools import reduce\n",
        "    cnt = Counter([kind for name, kind in clothes])\n",
        "    answer = reduce(lambda x, y: x*(y+1), cnt.values(), 1) - 1\n",
        "    return answer"
      ],
      "execution_count": 0,
      "outputs": []
    }
  ]
}