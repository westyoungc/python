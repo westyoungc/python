{
  "nbformat": 4,
  "nbformat_minor": 0,
  "metadata": {
    "colab": {
      "name": "10_최댓값과최솟값.ipynb",
      "provenance": [],
      "authorship_tag": "ABX9TyNow0BHOlAq5IHgjGeh7P0l",
      "include_colab_link": true
    },
    "kernelspec": {
      "name": "python3",
      "display_name": "Python 3"
    }
  },
  "cells": [
    {
      "cell_type": "markdown",
      "metadata": {
        "id": "view-in-github",
        "colab_type": "text"
      },
      "source": [
        "<a href=\"https://colab.research.google.com/github/westyoungc/python/blob/master/10_%EC%B5%9C%EB%8C%93%EA%B0%92%EA%B3%BC%EC%B5%9C%EC%86%9F%EA%B0%92.ipynb\" target=\"_parent\"><img src=\"https://colab.research.google.com/assets/colab-badge.svg\" alt=\"Open In Colab\"/></a>"
      ]
    },
    {
      "cell_type": "markdown",
      "metadata": {
        "id": "3g8zQY-wjy1r",
        "colab_type": "text"
      },
      "source": [
        "문자열 s에는 공백으로 구분된 숫자들이 저장되어 있습니다. str에 나타나는 숫자 중 최소값과 최대값을 찾아 이를 (최소값) (최대값)형태의 문자열을 반환하는 함수, solution을 완성하세요.\n",
        "예를들어 s가 1 2 3 4라면 1 4를 리턴하고, -1 -2 -3 -4라면 -4 -1을 리턴하면 됩니다.\n",
        "\n",
        "제한 조건\n",
        "s에는 둘 이상의 정수가 공백으로 구분되어 있습니다.\n",
        "입출력 예\n",
        "s\treturn\n",
        "1 2 3 4\t1 4\n",
        "-1 -2 -3 -4\t-4 -1\n",
        "-1 -1\t-1 -1"
      ]
    },
    {
      "cell_type": "code",
      "metadata": {
        "id": "W9D8tcrtj0lR",
        "colab_type": "code",
        "colab": {}
      },
      "source": [
        "#내 코드\n",
        "def solution(s):\n",
        "    answer = s.split(' ')\n",
        "    answer = list(map(int,answer))\n",
        "    a = str(min(answer));    b = str(max(answer))\n",
        "    return ''.join(a+' '+b)"
      ],
      "execution_count": 0,
      "outputs": []
    },
    {
      "cell_type": "markdown",
      "metadata": {
        "id": "suuXu8QUj3_o",
        "colab_type": "text"
      },
      "source": [
        "원래는 문자열끼리 비교했는데, 그러니까 음수에서 절댓값 비교로 나와서 int로 바꾸고 했다. \n",
        "\n",
        "좀 더 간결하게 할 수 있을 것 같지만... 이제 map을 잘 쓸수 있다는 거랑 ''.join에 익숙해졌다는 데에 의의를 두자\n",
        "\n",
        "레벨2 인데 왜 갑자기 이런 쉬운 문제가 들어있는 지는 의문 ?_?"
      ]
    },
    {
      "cell_type": "code",
      "metadata": {
        "id": "dsGqP8ZOkM1R",
        "colab_type": "code",
        "colab": {}
      },
      "source": [
        "#최적 코드\n",
        "def solution(s):\n",
        "    s = list(map(int,s.split()))\n",
        "    return str(min(s)) + \" \" + str(max(s))"
      ],
      "execution_count": 0,
      "outputs": []
    }
  ]
}