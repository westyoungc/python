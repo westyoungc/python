{
  "nbformat": 4,
  "nbformat_minor": 0,
  "metadata": {
    "colab": {
      "name": "16_올바른괄호.ipynb",
      "provenance": [],
      "authorship_tag": "ABX9TyO/M5bNwbDnXK7GLlr+T3L5",
      "include_colab_link": true
    },
    "kernelspec": {
      "name": "python3",
      "display_name": "Python 3"
    }
  },
  "cells": [
    {
      "cell_type": "markdown",
      "metadata": {
        "id": "view-in-github",
        "colab_type": "text"
      },
      "source": [
        "<a href=\"https://colab.research.google.com/github/westyoungc/python/blob/master/16_%EC%98%AC%EB%B0%94%EB%A5%B8%EA%B4%84%ED%98%B8.ipynb\" target=\"_parent\"><img src=\"https://colab.research.google.com/assets/colab-badge.svg\" alt=\"Open In Colab\"/></a>"
      ]
    },
    {
      "cell_type": "markdown",
      "metadata": {
        "id": "nBMK2rgVeRjI",
        "colab_type": "text"
      },
      "source": [
        "괄호가 바르게 짝지어졌다는 것은 '(' 문자로 열렸으면 반드시 짝지어서 ')' 문자로 닫혀야 한다는 뜻입니다. 예를 들어\n",
        "\n",
        "()() 또는 (())() 는 올바른 괄호입니다.\n",
        ")()( 또는 (()( 는 올바르지 않은 괄호입니다.\n",
        "'(' 또는 ')' 로만 이루어진 문자열 s가 주어졌을 때, 문자열 s가 올바른 괄호이면 true를 return 하고, 올바르지 않은 괄호이면 false를 return 하는 solution 함수를 완성해 주세요.\n",
        "\n",
        "제한사항\n",
        "문자열 s의 길이 : 100,000 이하의 자연수\n",
        "문자열 s는 '(' 또는 ')' 로만 이루어져 있습니다.\n",
        "입출력 예\n",
        "s\tanswer\n",
        "()()\ttrue\n",
        "(())()\ttrue\n",
        ")()(\tfalse\n",
        "(()(\tfalse\n",
        "입출력 예 설명\n",
        "입출력 예 #1,2,3,4\n",
        "문제의 예시와 같습니다."
      ]
    },
    {
      "cell_type": "code",
      "metadata": {
        "id": "VptLgRgzeSDQ",
        "colab_type": "code",
        "colab": {}
      },
      "source": [
        "#내코드\n",
        "def solution(s):\n",
        "    left = 0\n",
        "    for i in s:\n",
        "        if left < 0:\n",
        "            return False\n",
        "        elif i == '(':\n",
        "            left += 1\n",
        "        elif i == ')':\n",
        "            left -= 1\n",
        "    if left != 0:\n",
        "        return False\n",
        "    return True"
      ],
      "execution_count": 0,
      "outputs": []
    },
    {
      "cell_type": "markdown",
      "metadata": {
        "id": "l1hSjRfAejpZ",
        "colab_type": "text"
      },
      "source": [
        "디게 빨리 풀긴 했는데 몬가 더 간단하게 나타낼 수도 있을법하지만... 그래도 만족."
      ]
    },
    {
      "cell_type": "code",
      "metadata": {
        "id": "3S8XSqH2fFbS",
        "colab_type": "code",
        "colab": {}
      },
      "source": [
        "#남의 코드\n",
        "def is_pair(s):\n",
        "    # 함수를 완성하세요\n",
        "    x = 0\n",
        "    for w in s:\n",
        "        if x < 0:\n",
        "            break\n",
        "        x = x+1 if w==\"(\" else x-1 if w==\")\" else x\n",
        "    return x==0"
      ],
      "execution_count": 0,
      "outputs": []
    },
    {
      "cell_type": "markdown",
      "metadata": {
        "id": "FvqzN6DifHba",
        "colab_type": "text"
      },
      "source": [
        "배운 점\n",
        "\n",
        "나는 if에 false 넣고 마지막 return엔 True 넣어서 했는데 return x == 0 하면 된다는 멋진 식이 있네욤... ^.^\n",
        "\n",
        "글고 식 하나에 if else if else 넣어서 하는게 깔끔하다."
      ]
    }
  ]
}