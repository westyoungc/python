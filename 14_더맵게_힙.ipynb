{
  "nbformat": 4,
  "nbformat_minor": 0,
  "metadata": {
    "colab": {
      "name": "14_더맵게/힙.ipynb",
      "provenance": [],
      "authorship_tag": "ABX9TyMe/Gwg79LUq59QZ3/loyO2",
      "include_colab_link": true
    },
    "kernelspec": {
      "name": "python3",
      "display_name": "Python 3"
    }
  },
  "cells": [
    {
      "cell_type": "markdown",
      "metadata": {
        "id": "view-in-github",
        "colab_type": "text"
      },
      "source": [
        "<a href=\"https://colab.research.google.com/github/westyoungc/python/blob/master/14_%EB%8D%94%EB%A7%B5%EA%B2%8C_%ED%9E%99.ipynb\" target=\"_parent\"><img src=\"https://colab.research.google.com/assets/colab-badge.svg\" alt=\"Open In Colab\"/></a>"
      ]
    },
    {
      "cell_type": "markdown",
      "metadata": {
        "id": "HZY0AaAU9RGH",
        "colab_type": "text"
      },
      "source": [
        "매운 것을 좋아하는 Leo는 모든 음식의 스코빌 지수를 K 이상으로 만들고 싶습니다. 모든 음식의 스코빌 지수를 K 이상으로 만들기 위해 Leo는 스코빌 지수가 가장 낮은 두 개의 음식을 아래와 같이 특별한 방법으로 섞어 새로운 음식을 만듭니다.\n",
        "\n",
        "섞은 음식의 스코빌 지수 = 가장 맵지 않은 음식의 스코빌 지수 + (두 번째로 맵지 않은 음식의 스코빌 지수 * 2)\n",
        "Leo는 모든 음식의 스코빌 지수가 K 이상이 될 때까지 반복하여 섞습니다.\n",
        "Leo가 가진 음식의 스코빌 지수를 담은 배열 scoville과 원하는 스코빌 지수 K가 주어질 때, 모든 음식의 스코빌 지수를 K 이상으로 만들기 위해 섞어야 하는 최소 횟수를 return 하도록 solution 함수를 작성해주세요.\n",
        "\n",
        "제한 사항\n",
        "scoville의 길이는 1 이상 1,000,000 이하입니다.\n",
        "K는 0 이상 1,000,000,000 이하입니다.\n",
        "scoville의 원소는 각각 0 이상 1,000,000 이하입니다.\n",
        "모든 음식의 스코빌 지수를 K 이상으로 만들 수 없는 경우에는 -1을 return 합니다.\n",
        "입출력 예\n",
        "scoville\tK\treturn\n",
        "[1, 2, 3, 9, 10, 12]\t7\t2\n",
        "입출력 예 설명\n",
        "스코빌 지수가 1인 음식과 2인 음식을 섞으면 음식의 스코빌 지수가 아래와 같이 됩니다.\n",
        "새로운 음식의 스코빌 지수 = 1 + (2 * 2) = 5\n",
        "가진 음식의 스코빌 지수 = [5, 3, 9, 10, 12]\n",
        "\n",
        "스코빌 지수가 3인 음식과 5인 음식을 섞으면 음식의 스코빌 지수가 아래와 같이 됩니다.\n",
        "새로운 음식의 스코빌 지수 = 3 + (5 * 2) = 13\n",
        "가진 음식의 스코빌 지수 = [13, 9, 10, 12]\n",
        "\n",
        "모든 음식의 스코빌 지수가 7 이상이 되었고 이때 섞은 횟수는 2회입니다."
      ]
    },
    {
      "cell_type": "code",
      "metadata": {
        "id": "vUh820Bz9S58",
        "colab_type": "code",
        "colab": {}
      },
      "source": [
        "#내코드\n",
        "while for문 써서 런타임에러"
      ],
      "execution_count": 0,
      "outputs": []
    },
    {
      "cell_type": "code",
      "metadata": {
        "id": "kKxTUIMo9XUb",
        "colab_type": "code",
        "colab": {}
      },
      "source": [
        "#남의 코드\n",
        "import heapq\n",
        "def solution(scoville, K):\n",
        "    s = scoville\n",
        "    heapq.heapify(s)\n",
        "    answer = 0\n",
        "    while len(s) > 1:\n",
        "        a = heapq.heappop(s)\n",
        "        b = heapq.heappop(s)\n",
        "        heapq.heappush(s, a+b*2)\n",
        "        answer += 1\n",
        "        if s[0] >= K:\n",
        "            return answer\n",
        "    return -1"
      ],
      "execution_count": 0,
      "outputs": []
    },
    {
      "cell_type": "markdown",
      "metadata": {
        "id": "Ycp7J7KM9dIA",
        "colab_type": "text"
      },
      "source": [
        "범위가 힙이었으니.. 힙을 공부해보고 풀었어야 하는데 ^^\n",
        "막 풀다가 런타임 다 깨먹었다.\n",
        "\n",
        "배운점 : import heapq\n",
        "heapq.heapify(s)\n",
        "heapq.heappop(s)\n",
        "heapq.heqppush(s, a + b * 2#값인데 식이 들어갈 수 있댱)\n",
        "\n",
        "그래도 알고리즘 수업 들었다고 금방 이해되니까 조쿤... ㅎㅎ \n",
        "공부 열심히 합시다."
      ]
    }
  ]
}