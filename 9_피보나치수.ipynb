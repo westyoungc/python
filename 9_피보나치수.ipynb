{
  "nbformat": 4,
  "nbformat_minor": 0,
  "metadata": {
    "colab": {
      "name": "9_피보나치수.ipynb",
      "provenance": [],
      "authorship_tag": "ABX9TyM8BK/pTKvxvjqvUxnOmqC/",
      "include_colab_link": true
    },
    "kernelspec": {
      "name": "python3",
      "display_name": "Python 3"
    }
  },
  "cells": [
    {
      "cell_type": "markdown",
      "metadata": {
        "id": "view-in-github",
        "colab_type": "text"
      },
      "source": [
        "<a href=\"https://colab.research.google.com/github/westyoungc/python/blob/master/9_%ED%94%BC%EB%B3%B4%EB%82%98%EC%B9%98%EC%88%98.ipynb\" target=\"_parent\"><img src=\"https://colab.research.google.com/assets/colab-badge.svg\" alt=\"Open In Colab\"/></a>"
      ]
    },
    {
      "cell_type": "code",
      "metadata": {
        "id": "htdsosAXNrYD",
        "colab_type": "code",
        "colab": {}
      },
      "source": [
        "피보나치 수는 F(0) = 0, F(1) = 1일 때, 1 이상의 n에 대하여 F(n) = F(n-1) + F(n-2) 가 적용되는 수 입니다.\n",
        "\n",
        "예를들어\n",
        "\n",
        "F(2) = F(0) + F(1) = 0 + 1 = 1\n",
        "F(3) = F(1) + F(2) = 1 + 1 = 2\n",
        "F(4) = F(2) + F(3) = 1 + 2 = 3\n",
        "F(5) = F(3) + F(4) = 2 + 3 = 5\n",
        "와 같이 이어집니다.\n",
        "\n",
        "2 이상의 n이 입력되었을 때, n번째 피보나치 수를 1234567으로 나눈 나머지를 리턴하는 함수, solution을 완성해 주세요.\n",
        "\n",
        "제한 사항\n",
        "* n은 1이상, 100000이하인 자연수입니다.\n",
        "\n",
        "입출력 예\n",
        "n\treturn\n",
        "3\t2\n",
        "5\t5\n",
        "입출력 예 설명\n",
        "피보나치수는 0번째부터 0, 1, 1, 2, 3, 5, ... 와 같이 이어집니다."
      ],
      "execution_count": 0,
      "outputs": []
    },
    {
      "cell_type": "code",
      "metadata": {
        "id": "YeExWS0ZNzRj",
        "colab_type": "code",
        "colab": {}
      },
      "source": [
        "#내 코드, 이자 최적 코드 O(n)\n",
        "def solution(n):\n",
        "    a, b = 1, 0\n",
        "    for i in range(n):\n",
        "        a, b = b, a + b\n",
        "    return b % 1234567"
      ],
      "execution_count": 0,
      "outputs": []
    },
    {
      "cell_type": "code",
      "metadata": {
        "id": "jkDHFadLQTow",
        "colab_type": "code",
        "colab": {}
      },
      "source": [
        "#Matrix Multiplication & Exponentiation - O(log(n))\n",
        "def mult(x,y):\n",
        "    \"\"\"\n",
        "    행렬에 대한 곱셈 함수\n",
        "    x, y = list 형태의 매트릭스\n",
        "    \"\"\"\n",
        "    if ( len(y) == 2 ):\n",
        "        a = x[0]*y[0] + x[1]*y[1]\n",
        "        b = x[2]*y[0] + x[3]*y[1]\n",
        "        return [a,b]\n",
        "    a = x[0]*y[0] + x[1]*y[2]\n",
        "    b = x[0]*y[1] + x[1]*y[3]\n",
        "    c = x[2]*y[0] + x[3]*y[2]\n",
        "    d = x[2]*y[1] + x[3]*y[3]\n",
        "    return [a,b,c,d]\n",
        "\n",
        "# 양수에만 적용됨\n",
        "def matrix_power( x, n ):\n",
        "    \"\"\"\n",
        "    행렬 지수 함수\n",
        "    \"\"\"\n",
        "    # fibonacci(1) 이면 그대로 x를 반환\n",
        "    if ( n == 1 ):\n",
        "        return x\n",
        "    # n 이 짝수일 경우\n",
        "    if ( n%2 == 0 ):\n",
        "        return matrix_power( mult(x, x), n//2 )\n",
        "    # n 이 홀수일 경우\n",
        "    return mult(x, matrix_power( mult(x, x), n//2 ) )\n",
        "\n",
        "# fibonacci example:\n",
        "A = [1,1,1,0]\n",
        "v = [1,0]\n",
        "\n",
        "print(mult(matrix_power(A, n-1), v)[0])\n"
      ],
      "execution_count": 0,
      "outputs": []
    },
    {
      "cell_type": "markdown",
      "metadata": {
        "id": "WXwcWRpxQqom",
        "colab_type": "text"
      },
      "source": [
        "이건 내가 아직 이해하기 힘든 부분인 것 같지만.. 언젠가 하겠지.\n",
        "행렬의 피보나치 수열.. 최적코드당\n",
        "https://devdoggo.netlify.com/post/alg_ds/challenges/fibonacci_solutions/\n",
        "\n",
        "요기 설명 자세히 나와있음"
      ]
    }
  ]
}