{
  "nbformat": 4,
  "nbformat_minor": 0,
  "metadata": {
    "colab": {
      "name": "17_카펫.ipynb",
      "provenance": [],
      "authorship_tag": "ABX9TyPZYZrppjNlWSREX630NN2n",
      "include_colab_link": true
    },
    "kernelspec": {
      "name": "python3",
      "display_name": "Python 3"
    }
  },
  "cells": [
    {
      "cell_type": "markdown",
      "metadata": {
        "id": "view-in-github",
        "colab_type": "text"
      },
      "source": [
        "<a href=\"https://colab.research.google.com/github/westyoungc/python/blob/master/17_%EC%B9%B4%ED%8E%AB.ipynb\" target=\"_parent\"><img src=\"https://colab.research.google.com/assets/colab-badge.svg\" alt=\"Open In Colab\"/></a>"
      ]
    },
    {
      "cell_type": "markdown",
      "metadata": {
        "id": "1duhT1gdiE56",
        "colab_type": "text"
      },
      "source": [
        "Leo는 카펫을 사러 갔다가 아래 그림과 같이 중앙에는 빨간색으로 칠해져 있고 모서리는 갈색으로 칠해져 있는 격자 모양 카펫을 봤습니다.\n",
        "\n",
        "image.png\n",
        "\n",
        "Leo는 집으로 돌아와서 아까 본 카펫의 빨간색과 갈색으로 색칠된 격자의 개수는 기억했지만, 전체 카펫의 크기는 기억하지 못했습니다.\n",
        "\n",
        "Leo가 본 카펫에서 갈색 격자의 수 brown, 빨간색 격자의 수 red가 매개변수로 주어질 때 카펫의 가로, 세로 크기를 순서대로 배열에 담아 return 하도록 solution 함수를 작성해주세요.\n",
        "\n",
        "제한사항\n",
        "갈색 격자의 수 brown은 8 이상 5,000 이하인 자연수입니다.\n",
        "빨간색 격자의 수 red는 1 이상 2,000,000 이하인 자연수입니다.\n",
        "카펫의 가로 길이는 세로 길이와 같거나, 세로 길이보다 깁니다.\n",
        "입출력 예\n",
        "brown\tred\treturn\n",
        "10\t2\t[4, 3]\n",
        "8\t1\t[3, 3]\n",
        "24\t24\t[8, 6]"
      ]
    },
    {
      "cell_type": "code",
      "metadata": {
        "id": "SCzNEbyKiKgS",
        "colab_type": "code",
        "colab": {}
      },
      "source": [
        "#내코드\n",
        "def solution(brown, red):\n",
        "    total = brown+red\n",
        "    for i in range(1, total):\n",
        "        if total % i == 0:\n",
        "            if (i + (total//i)) * 2 - 4 == brown:\n",
        "                return [(total//i),i]"
      ],
      "execution_count": 0,
      "outputs": []
    },
    {
      "cell_type": "code",
      "metadata": {
        "id": "1Ok8IdkrimhS",
        "colab_type": "code",
        "colab": {}
      },
      "source": [
        "#남의코드\n",
        "def solution(brown, red):\n",
        "    for i in range(1, int(red**(1/2))+1):\n",
        "        if red % i == 0:\n",
        "            if 2*(i + red//i) == brown-4:\n",
        "                return [red//i+2, i+2]"
      ],
      "execution_count": 0,
      "outputs": []
    },
    {
      "cell_type": "markdown",
      "metadata": {
        "id": "a-6GPQMvin2A",
        "colab_type": "text"
      },
      "source": [
        "내 코드랑 남의 코드 진짜 비슷.. \n",
        "\n",
        "배운점:\n",
        "나는 어차피 중간에 return 값으로 나가니까 효율성 테스트 안 걸릴 거라 생각해서 range에 total 넣었다.\n",
        "\n",
        "역시 최적값을 넣는거면 루트써서 range를 최소로 줄이는 것이 좋군.. \n",
        "\n",
        "다만 기준이 red라는 점! 나라면 최소로 하려고 했어도 왠지 total로 했을것같은 느낌\n",
        "\n",
        "기억할 것은 루트값!!!!!"
      ]
    }
  ]
}