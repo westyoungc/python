{
  "nbformat": 4,
  "nbformat_minor": 0,
  "metadata": {
    "colab": {
      "name": "12_숫자의표현.ipynb",
      "provenance": [],
      "authorship_tag": "ABX9TyOlTuUleeQ+0lPPZbBHtkVe",
      "include_colab_link": true
    },
    "kernelspec": {
      "name": "python3",
      "display_name": "Python 3"
    }
  },
  "cells": [
    {
      "cell_type": "markdown",
      "metadata": {
        "id": "view-in-github",
        "colab_type": "text"
      },
      "source": [
        "<a href=\"https://colab.research.google.com/github/westyoungc/python/blob/master/12_%EC%88%AB%EC%9E%90%EC%9D%98%ED%91%9C%ED%98%84.ipynb\" target=\"_parent\"><img src=\"https://colab.research.google.com/assets/colab-badge.svg\" alt=\"Open In Colab\"/></a>"
      ]
    },
    {
      "cell_type": "markdown",
      "metadata": {
        "id": "4xQNN3YFOv3B",
        "colab_type": "text"
      },
      "source": [
        "Finn은 요즘 수학공부에 빠져 있습니다. 수학 공부를 하던 Finn은 자연수 n을 연속한 자연수들로 표현 하는 방법이 여러개라는 사실을 알게 되었습니다. 예를들어 15는 다음과 같이 4가지로 표현 할 수 있습니다.\n",
        "\n",
        "1 + 2 + 3 + 4 + 5 = 15\n",
        "4 + 5 + 6 = 15\n",
        "7 + 8 = 15\n",
        "15 = 15\n",
        "자연수 n이 매개변수로 주어질 때, 연속된 자연수들로 n을 표현하는 방법의 수를 return하는 solution를 완성해주세요.\n",
        "\n",
        "제한사항\n",
        "n은 10,000 이하의 자연수 입니다.\n",
        "입출력 예\n",
        "n\tresult\n",
        "15\t4\n",
        "입출력 예 설명\n",
        "입출력 예#1\n",
        "문제의 예시와 같습니다."
      ]
    },
    {
      "cell_type": "code",
      "metadata": {
        "id": "b2gapTnmO0Lj",
        "colab_type": "code",
        "colab": {}
      },
      "source": [
        "#내코드\n",
        "def solution(n):\n",
        "    cnt = 0\n",
        "    for i in range(1, n+1):\n",
        "        answer = 0\n",
        "        for j in range(i, n+1):\n",
        "            answer += j\n",
        "            if answer == n:\n",
        "                cnt += 1\n",
        "                break\n",
        "            elif answer > n:\n",
        "                break\n",
        "    return cnt"
      ],
      "execution_count": 0,
      "outputs": []
    },
    {
      "cell_type": "markdown",
      "metadata": {
        "id": "-ES2_BDcO4CY",
        "colab_type": "text"
      },
      "source": [
        "진짜 빨리 풀었다 3분? 감격... "
      ]
    },
    {
      "cell_type": "code",
      "metadata": {
        "id": "mVqD31C0PJ9J",
        "colab_type": "code",
        "colab": {}
      },
      "source": [
        "#최적 코드\n",
        "def expressions(num):\n",
        "    return len([i  for i in range(1,num+1,2) if num % i is 0])\n"
      ],
      "execution_count": 0,
      "outputs": []
    },
    {
      "cell_type": "markdown",
      "metadata": {
        "id": "KV6YnmFoPo_S",
        "colab_type": "text"
      },
      "source": [
        "하지만 남의 코드는 이렇게 간단하네요....\n",
        "\n",
        "자기보다 작은 홀수로 나누어떨어지는 값의 갯수가 이 문제 답의 갯수와 같은 것\n",
        "\n",
        "이라는데 오.. 대단한걸.. 이걸 어케...\n",
        "\n",
        "등차수열의 합 공식? 이라는데.. 수학 다 잊은지 오래라.. 지금 알았으니까 됐다!"
      ]
    }
  ]
}