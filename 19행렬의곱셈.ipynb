{
  "nbformat": 4,
  "nbformat_minor": 0,
  "metadata": {
    "colab": {
      "name": "19행렬의곱셈.ipynb",
      "provenance": [],
      "collapsed_sections": [],
      "authorship_tag": "ABX9TyP4J1iovzKuG9FHvZ8s8EJa",
      "include_colab_link": true
    },
    "kernelspec": {
      "name": "python3",
      "display_name": "Python 3"
    }
  },
  "cells": [
    {
      "cell_type": "markdown",
      "metadata": {
        "id": "view-in-github",
        "colab_type": "text"
      },
      "source": [
        "<a href=\"https://colab.research.google.com/github/westyoungc/python/blob/master/19%ED%96%89%EB%A0%AC%EC%9D%98%EA%B3%B1%EC%85%88.ipynb\" target=\"_parent\"><img src=\"https://colab.research.google.com/assets/colab-badge.svg\" alt=\"Open In Colab\"/></a>"
      ]
    },
    {
      "cell_type": "markdown",
      "metadata": {
        "id": "lhFfFqneRFw3",
        "colab_type": "text"
      },
      "source": [
        "2차원 행렬 arr1과 arr2를 입력받아, arr1에 arr2를 곱한 결과를 반환하는 함수, solution을 완성해주세요.\n",
        "\n",
        "제한 조건\n",
        "행렬 arr1, arr2의 행과 열의 길이는 2 이상 100 이하입니다.\n",
        "행렬 arr1, arr2의 원소는 -10 이상 20 이하인 자연수입니다.\n",
        "곱할 수 있는 배열만 주어집니다.\n",
        "입출력 예\n",
        "arr1\tarr2\treturn\n",
        "[[1, 4], [3, 2], [4, 1]]\t[[3, 3], [3, 3]]\t[[15, 15], [15, 15], [15, 15]]\n",
        "[[2, 3, 2], [4, 2, 4], [3, 1, 4]]\t[[5, 4, 3], [2, 4, 1], [3, 1, 1]]\t[[22, 22, 11], [36, 28, 18], [29, 20, 14]]"
      ]
    },
    {
      "cell_type": "code",
      "metadata": {
        "id": "l6kC-dniRJHP",
        "colab_type": "code",
        "colab": {}
      },
      "source": [
        "#내코드..도 아니지 dot안되길래 걍 베낌\n",
        "def solution(arr1, arr2):\n",
        "    answer = []\n",
        "    for i in arr1:\n",
        "        row = []\n",
        "        for j in zip(*arr2):\n",
        "            tmp = 0\n",
        "            for a,b in zip(i,j):\n",
        "                tmp += a*b\n",
        "            row.append(tmp)\n",
        "        answer.append(row)\n",
        "    return answer"
      ],
      "execution_count": 0,
      "outputs": []
    },
    {
      "cell_type": "code",
      "metadata": {
        "id": "sXBCMEQpRQPh",
        "colab_type": "code",
        "colab": {}
      },
      "source": [
        "#남의코드 1 - 최적코드\n",
        "def productMatrix(A, B):\n",
        "    return [[sum(a*b for a, b in zip(A_row,B_col)) for B_col in zip(*B)] for A_row in A]"
      ],
      "execution_count": 0,
      "outputs": []
    },
    {
      "cell_type": "code",
      "metadata": {
        "id": "ZBcfKIAVRVsf",
        "colab_type": "code",
        "colab": {}
      },
      "source": [
        "#남의 코드2\n",
        "import numpy as np\n",
        "def productMatrix(A, B):\n",
        "\n",
        "    return (np.matrix(A)*np.matrix(B)).tolist()"
      ],
      "execution_count": 0,
      "outputs": []
    },
    {
      "cell_type": "markdown",
      "metadata": {
        "id": "HKJGB8PDRdJe",
        "colab_type": "text"
      },
      "source": [
        "일단 처음에 np.dot을 사용했는데... 뭐 a.all()이런거 쓰라고 오류 떴음.\n",
        "\n",
        "그리고 다른 사람들 보니까 다 dot 안 썼네?ㅠㅠ 왜지 square matirx 아님 dot 못 쓰나유???\n",
        "\n",
        "일단은\n",
        "\n",
        "\n",
        "배운점\n",
        "*  zip(*A)하면 2차월 배열일 시에 col만 뽑을 수 있다.\n",
        "*  .tolist() : numpyarray를 list로 바꿔주는 함수.\n",
        "* 저렇게 한 줄로 쓰는 함수.. []을 미리 넣어놔서 for 끝나면 줄 바뀌는 게 신기했다. 무슨 소린지 알려나ㅠㅠ 그래서 그냥 sum하면 끝나는... 간지 쩌는 함수.. 언제쯤 저렇게 짤 수 있으려낭 ㅋ.ㅋ 저렇게 짜기엔 아는게 없다. 요즘 맨날 놀고.. 반성합니다 :ㅅ:\n",
        "* tmp = temporary\n",
        "\n",
        "\n",
        "\n",
        "\n"
      ]
    },
    {
      "cell_type": "code",
      "metadata": {
        "id": "iOjveVgETI9F",
        "colab_type": "code",
        "colab": {}
      },
      "source": [
        "#내 코드 수정판\n",
        "import numpy as np\n",
        "def solution(arr1, arr2):\n",
        "    return np.dot(np.array(arr1),np.array(arr2)).tolist()"
      ],
      "execution_count": 0,
      "outputs": []
    },
    {
      "cell_type": "markdown",
      "metadata": {
        "id": "vZaEXOsiTHyS",
        "colab_type": "text"
      },
      "source": [
        "아니 tolist 배운 김에 dot에 써봤는데 되네?? ...ㅋㅋㅋㅋㅋㅋㅋ 역시 인생이란\n",
        "\n",
        "배운점 추가\n",
        "* 배운점 까진 아니지만.. np.dot(a,b) 형태 잊지 말자.\n",
        "* 마찬가지로 배운점 까진 아니고 오늘 외운 건데 나중에 까먹을 때를 대비해서\n",
        "\n",
        "import numpy as np\n",
        "\n",
        "np.zeros((2,2))\n",
        "\n",
        "np.ones((2,2))\n",
        "\n",
        "np.eye(3)\n",
        "\n",
        "np.full((2,3),10)\n",
        "\n",
        "np.array(range(20)).reshape((5,4)\n",
        "\n",
        "np.sum(a,axis = 1) #1은 행 0은 열\n",
        "\n",
        "np.prod(a, axis = 0) #곱하기"
      ]
    }
  ]
}