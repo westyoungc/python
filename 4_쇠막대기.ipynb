{
  "nbformat": 4,
  "nbformat_minor": 0,
  "metadata": {
    "colab": {
      "name": "4.쇠막대기.ipynb",
      "provenance": [],
      "collapsed_sections": [],
      "authorship_tag": "ABX9TyO0vgf3LwDi7P8ph6gEwzsh",
      "include_colab_link": true
    },
    "kernelspec": {
      "name": "python3",
      "display_name": "Python 3"
    }
  },
  "cells": [
    {
      "cell_type": "markdown",
      "metadata": {
        "id": "view-in-github",
        "colab_type": "text"
      },
      "source": [
        "<a href=\"https://colab.research.google.com/github/westyoungc/python/blob/master/4_%EC%87%A0%EB%A7%89%EB%8C%80%EA%B8%B0.ipynb\" target=\"_parent\"><img src=\"https://colab.research.google.com/assets/colab-badge.svg\" alt=\"Open In Colab\"/></a>"
      ]
    },
    {
      "cell_type": "code",
      "metadata": {
        "id": "_3miCpDkRltz",
        "colab_type": "code",
        "colab": {}
      },
      "source": [
        "여러 개의 쇠막대기를 레이저로 절단하려고 합니다. 효율적인 작업을 위해서 쇠막대기를 아래에서 위로 겹쳐 놓고, 레이저를 위에서 수직으로 발사하여 쇠막대기들을 자릅니다. 쇠막대기와 레이저의 배치는 다음 조건을 만족합니다.\n",
        "\n",
        "- 쇠막대기는 자신보다 긴 쇠막대기 위에만 놓일 수 있습니다.\n",
        "- 쇠막대기를 다른 쇠막대기 위에 놓는 경우 완전히 포함되도록 놓되, 끝점은 겹치지 않도록 놓습니다.\n",
        "- 각 쇠막대기를 자르는 레이저는 적어도 하나 존재합니다.\n",
        "- 레이저는 어떤 쇠막대기의 양 끝점과도 겹치지 않습니다.\n",
        "아래 그림은 위 조건을 만족하는 예를 보여줍니다. 수평으로 그려진 굵은 실선은 쇠막대기이고, 점은 레이저의 위치, 수직으로 그려진 점선 화살표는 레이저의 발사 방향입니다.\n",
        "\n",
        "image0.png\n",
        "\n",
        "이러한 레이저와 쇠막대기의 배치는 다음과 같이 괄호를 이용하여 왼쪽부터 순서대로 표현할 수 있습니다.\n",
        "\n",
        "(a) 레이저는 여는 괄호와 닫는 괄호의 인접한 쌍 '()'으로 표현합니다. 또한 모든 '()'는 반드시 레이저를 표현합니다.\n",
        "(b) 쇠막대기의 왼쪽 끝은 여는 괄호 '('로, 오른쪽 끝은 닫힌 괄호 ')'로 표현됩니다.\n",
        "위 예의 괄호 표현은 그림 위에 주어져 있습니다.\n",
        "쇠막대기는 레이저에 의해 몇 개의 조각으로 잘리는데, 위 예에서 가장 위에 있는 두 개의 쇠막대기는 각각 3개와 2개의 조각으로 잘리고, 이와 같은 방식으로 주어진 쇠막대기들은 총 17개의 조각으로 잘립니다.\n",
        "\n",
        "쇠막대기와 레이저의 배치를 표현한 문자열 arrangement가 매개변수로 주어질 때, 잘린 쇠막대기 조각의 총 개수를 return 하도록 solution 함수를 작성해주세요.\n",
        "\n",
        "제한사항\n",
        "arrangement의 길이는 최대 100,000입니다.\n",
        "arrangement의 여는 괄호와 닫는 괄호는 항상 쌍을 이룹니다.\n",
        "입출력 예\n",
        "arrangement\treturn\n",
        "()(((()())(())()))(())\t17"
      ],
      "execution_count": 0,
      "outputs": []
    },
    {
      "cell_type": "markdown",
      "metadata": {
        "id": "cDod5RkLRn4O",
        "colab_type": "text"
      },
      "source": [
        "배운점:\n",
        "string은 수정할 수 없다.\n",
        "\n",
        "하지만 replace가 가능하다.. replace list 아님. string.. 이걸 아직도 모르니 외우자..\n",
        "\n"
      ]
    },
    {
      "cell_type": "markdown",
      "metadata": {
        "id": "q41NIqs1Rq57",
        "colab_type": "text"
      },
      "source": [
        ""
      ]
    },
    {
      "cell_type": "code",
      "metadata": {
        "id": "N8HX5C5RRp4K",
        "colab_type": "code",
        "colab": {}
      },
      "source": [
        "# 내 코드\n",
        "def solution(arr):\n",
        "    val, tol = 0, 0\n",
        "    arr = list(arr)\n",
        "    for i in range(0,len(arr)):\n",
        "        if arr[i] == \"(\" and arr[i+1] == \")\":\n",
        "            arr[i+1] = '0'\n",
        "            arr[i] = '1'\n",
        "    for i in arr:\n",
        "        if i == '(':\n",
        "            val += 1\n",
        "        elif i == ')':\n",
        "            val -= 1\n",
        "            tol += 1\n",
        "        elif i == '0':   \n",
        "            tol += val\n",
        "    return tol"
      ],
      "execution_count": 0,
      "outputs": []
    },
    {
      "cell_type": "code",
      "metadata": {
        "id": "UsbucvizR_On",
        "colab_type": "code",
        "colab": {}
      },
      "source": [
        "#최적 코드\n",
        "def solution(arr):\n",
        "    val, tol = 0, 0\n",
        "    arr = arr.replace('()','0')\n",
        "    for i in arr:\n",
        "        if i == '(':\n",
        "            val += 1\n",
        "        elif i == ')':\n",
        "            val -= 1\n",
        "            tol += 1\n",
        "        else:   tol += val\n",
        "    return tol"
      ],
      "execution_count": 0,
      "outputs": []
    },
    {
      "cell_type": "code",
      "metadata": {
        "id": "T3oSiBJhS5zH",
        "colab_type": "code",
        "colab": {}
      },
      "source": [
        "#명색이 스택/큐 문제니까,, 다른 사람의 풀이\n",
        "def solution(arrangement):\n",
        "    count = 0\n",
        "    stack = []\n",
        "    arrangement = arrangement.replace(\"()\", \"R\");\n",
        "    for c in arrangement:\n",
        "        if c == \"(\":\n",
        "            stack.append(c)\n",
        "        if c == \"R\":\n",
        "            count += len(stack)\n",
        "        if c == \")\":\n",
        "            stack.pop()\n",
        "            count += 1\n",
        "    return count\n"
      ],
      "execution_count": 0,
      "outputs": []
    }
  ]
}