{
  "nbformat": 4,
  "nbformat_minor": 0,
  "metadata": {
    "colab": {
      "name": "13_스킬트리.ipynb",
      "provenance": [],
      "authorship_tag": "ABX9TyPpbHoCWaWiHUb/CFsq/mWa",
      "include_colab_link": true
    },
    "kernelspec": {
      "name": "python3",
      "display_name": "Python 3"
    }
  },
  "cells": [
    {
      "cell_type": "markdown",
      "metadata": {
        "id": "view-in-github",
        "colab_type": "text"
      },
      "source": [
        "<a href=\"https://colab.research.google.com/github/westyoungc/python/blob/master/13_%EC%8A%A4%ED%82%AC%ED%8A%B8%EB%A6%AC.ipynb\" target=\"_parent\"><img src=\"https://colab.research.google.com/assets/colab-badge.svg\" alt=\"Open In Colab\"/></a>"
      ]
    },
    {
      "cell_type": "markdown",
      "metadata": {
        "id": "i0np6_pNWm3m",
        "colab_type": "text"
      },
      "source": [
        "선행 스킬이란 어떤 스킬을 배우기 전에 먼저 배워야 하는 스킬을 뜻합니다.\n",
        "\n",
        "예를 들어 선행 스킬 순서가 스파크 → 라이트닝 볼트 → 썬더일때, 썬더를 배우려면 먼저 라이트닝 볼트를 배워야 하고, 라이트닝 볼트를 배우려면 먼저 스파크를 배워야 합니다.\n",
        "\n",
        "위 순서에 없는 다른 스킬(힐링 등)은 순서에 상관없이 배울 수 있습니다. 따라서 스파크 → 힐링 → 라이트닝 볼트 → 썬더와 같은 스킬트리는 가능하지만, 썬더 → 스파크나 라이트닝 볼트 → 스파크 → 힐링 → 썬더와 같은 스킬트리는 불가능합니다.\n",
        "\n",
        "선행 스킬 순서 skill과 유저들이 만든 스킬트리1를 담은 배열 skill_trees가 매개변수로 주어질 때, 가능한 스킬트리 개수를 return 하는 solution 함수를 작성해주세요.\n",
        "\n",
        "제한 조건\n",
        "스킬은 알파벳 대문자로 표기하며, 모든 문자열은 알파벳 대문자로만 이루어져 있습니다.\n",
        "스킬 순서와 스킬트리는 문자열로 표기합니다.\n",
        "예를 들어, C → B → D 라면 CBD로 표기합니다\n",
        "선행 스킬 순서 skill의 길이는 1 이상 26 이하이며, 스킬은 중복해 주어지지 않습니다.\n",
        "skill_trees는 길이 1 이상 20 이하인 배열입니다.\n",
        "skill_trees의 원소는 스킬을 나타내는 문자열입니다.\n",
        "skill_trees의 원소는 길이가 2 이상 26 이하인 문자열이며, 스킬이 중복해 주어지지 않습니다.\n",
        "입출력 예\n",
        "skill\tskill_trees\treturn\n",
        "\"CBD\"\t[\"BACDE\", \"CBADF\", \"AECB\", \"BDA\"]\t2\n",
        "입출력 예 설명\n",
        "BACDE: B 스킬을 배우기 전에 C 스킬을 먼저 배워야 합니다. 불가능한 스킬트립니다.\n",
        "CBADF: 가능한 스킬트리입니다.\n",
        "AECB: 가능한 스킬트리입니다.\n",
        "BDA: B 스킬을 배우기 전에 C 스킬을 먼저 배워야 합니다. 불가능한 스킬트리입니다.\n",
        "스킬 트리: 유저가 스킬을 배울 순서 ↩"
      ]
    },
    {
      "cell_type": "code",
      "metadata": {
        "id": "BWT07yVlWyWd",
        "colab_type": "code",
        "colab": {}
      },
      "source": [
        "#내코드\n",
        "def solution(skill, skill_trees):\n",
        "    answer = 0\n",
        "    for i in skill_trees:\n",
        "        ord = []\n",
        "        for j in skill:\n",
        "            if i.find(j) == -1:\n",
        "                ord.append(100)\n",
        "            else:\n",
        "                ord.append(i.find(j))\n",
        "        if ord == sorted(ord):\n",
        "            answer += 1\n",
        "    return answer"
      ],
      "execution_count": 0,
      "outputs": []
    },
    {
      "cell_type": "markdown",
      "metadata": {
        "id": "VU9jTWSOW4a7",
        "colab_type": "text"
      },
      "source": [
        "이번에도 빨리 풀었다 뿌듯 ㅋ.ㅋ"
      ]
    },
    {
      "cell_type": "code",
      "metadata": {
        "id": "dyULNQIGW7kc",
        "colab_type": "code",
        "colab": {}
      },
      "source": [
        "#남의 코드\n",
        "def solution(skill, skill_trees):\n",
        "    answer = 0\n",
        "\n",
        "    for skills in skill_trees:\n",
        "        skill_list = list(skill)\n",
        "\n",
        "        for s in skills:\n",
        "            if s in skill:\n",
        "                if s != skill_list.pop(0):\n",
        "                    break\n",
        "        else:\n",
        "            answer += 1\n",
        "\n",
        "    return answer"
      ],
      "execution_count": 0,
      "outputs": []
    },
    {
      "cell_type": "markdown",
      "metadata": {
        "id": "SfN8JLETXFXK",
        "colab_type": "text"
      },
      "source": [
        "오... in 을 사용하는 방법도 있군... 하긴 내가 find 쓴거랑 비슷한 맥락인듯.\n",
        "근데 pop(0)이랑 그냥 sort 한 후에 pop()한 것중 시간 복잡도가 작은건 뭘까.\n",
        "\n",
        "근데 거꾸로 해보니까 오류난다 ㅎㅎㅎ... 그냥 주시는대로 하겠습니다"
      ]
    }
  ]
}